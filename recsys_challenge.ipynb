{
 "cells": [
  {
   "cell_type": "code",
   "execution_count": 1,
   "metadata": {
    "collapsed": false
   },
   "outputs": [
    {
     "data": {
      "text/plain": [
       "[[u'420374', u'2014-04-06T18:44:58.314Z', u'214537888', u'12462', u'1'],\n",
       " [u'420374', u'2014-04-06T18:44:58.325Z', u'214537850', u'10471', u'1'],\n",
       " [u'281626', u'2014-04-06T09:40:13.032Z', u'214535653', u'1883', u'1'],\n",
       " [u'420368', u'2014-04-04T06:13:28.848Z', u'214530572', u'6073', u'1'],\n",
       " [u'420368', u'2014-04-04T06:13:28.858Z', u'214835025', u'2617', u'1']]"
      ]
     },
     "execution_count": 1,
     "metadata": {},
     "output_type": "execute_result"
    }
   ],
   "source": [
    "orders_data = \"recsys_challenge/yoochoose-buys.dat\"\n",
    "lines = sc.textFile(orders_data).map(lambda row: row.split(\",\"))\n",
    "lines.take(5)"
   ]
  },
  {
   "cell_type": "markdown",
   "metadata": {},
   "source": [
    "**yoochoose-buys.dat**\n",
    "* Session ID - the id of the session. In one session there are one or many buying events. Could be represented as an integer number.\n",
    "* Timestamp - the time when the buy occurred. Format of YYYY-MM-DDThh:mm:ss.SSSZ\n",
    "* Item ID – the unique identifier of item that has been bought. Could be represented as an integer number.\n",
    "* Price – the price of the item. Could be represented as an integer number.\n",
    "* Quantity – the quantity in this buying.  Could be represented as an integer number."
   ]
  },
  {
   "cell_type": "code",
   "execution_count": 2,
   "metadata": {
    "collapsed": true
   },
   "outputs": [],
   "source": [
    "from datetime import date\n",
    "\n",
    "#calculate dateID, we need this to have itteger date for simplicity\n",
    "def calcDateID(year, month, day):\n",
    "    day1 = date(2006, 1, 1)\n",
    "    dayWanted = date(year, month, day)\n",
    "    delta = dayWanted - day1\n",
    "    return delta.days + 1 # we need to add day one as first day not 0\n"
   ]
  },
  {
   "cell_type": "code",
   "execution_count": 3,
   "metadata": {
    "collapsed": false
   },
   "outputs": [
    {
     "data": {
      "text/plain": [
       "[[u'420374',\n",
       "  u'2014-04-06T18:44:58.314Z',\n",
       "  u'214537888',\n",
       "  u'12462',\n",
       "  u'1',\n",
       "  u'2014-04-06',\n",
       "  3018],\n",
       " [u'420374',\n",
       "  u'2014-04-06T18:44:58.325Z',\n",
       "  u'214537850',\n",
       "  u'10471',\n",
       "  u'1',\n",
       "  u'2014-04-06',\n",
       "  3018],\n",
       " [u'281626',\n",
       "  u'2014-04-06T09:40:13.032Z',\n",
       "  u'214535653',\n",
       "  u'1883',\n",
       "  u'1',\n",
       "  u'2014-04-06',\n",
       "  3018]]"
      ]
     },
     "execution_count": 3,
     "metadata": {},
     "output_type": "execute_result"
    }
   ],
   "source": [
    "orders = (lines\n",
    "          .map(lambda row: row + [row[1][:10], calcDateID(int(row[1][:4]), int(row[1][5:7]), int(row[1][8:10]))])\n",
    "          .cache()\n",
    "          )\n",
    "orders.take(3)"
   ]
  },
  {
   "cell_type": "markdown",
   "metadata": {},
   "source": [
    "# Dates"
   ]
  },
  {
   "cell_type": "code",
   "execution_count": 4,
   "metadata": {
    "collapsed": true
   },
   "outputs": [],
   "source": [
    "dates = orders.map(lambda row: (row[6], 1)).reduceByKey(lambda a, b: a+b)"
   ]
  },
  {
   "cell_type": "code",
   "execution_count": null,
   "metadata": {
    "collapsed": true
   },
   "outputs": [],
   "source": []
  },
  {
   "cell_type": "code",
   "execution_count": 6,
   "metadata": {
    "collapsed": false
   },
   "outputs": [
    {
     "data": {
      "text/plain": [
       "[(3013, 7093),\n",
       " (3014, 5757),\n",
       " (3015, 6642),\n",
       " (3016, 4983),\n",
       " (3017, 6650),\n",
       " (3018, 11303),\n",
       " (3019, 7292),\n",
       " (3020, 5902),\n",
       " (3021, 6455),\n",
       " (3022, 5700)]"
      ]
     },
     "execution_count": 6,
     "metadata": {},
     "output_type": "execute_result"
    }
   ],
   "source": [
    "dates.takeOrdered(10, lambda row: row[0])"
   ]
  },
  {
   "cell_type": "code",
   "execution_count": 7,
   "metadata": {
    "collapsed": false
   },
   "outputs": [
    {
     "data": {
      "text/plain": [
       "183"
      ]
     },
     "execution_count": 7,
     "metadata": {},
     "output_type": "execute_result"
    }
   ],
   "source": [
    "dates.count()"
   ]
  },
  {
   "cell_type": "code",
   "execution_count": 8,
   "metadata": {
    "collapsed": false
   },
   "outputs": [
    {
     "data": {
      "text/plain": [
       "([32.0,\n",
       "  2032.2,\n",
       "  4032.4,\n",
       "  6032.6,\n",
       "  8032.8,\n",
       "  10033.0,\n",
       "  12033.2,\n",
       "  14033.4,\n",
       "  16033.6,\n",
       "  18033.8,\n",
       "  20034],\n",
       " [25, 13, 60, 38, 23, 10, 6, 1, 4, 3])"
      ]
     },
     "execution_count": 8,
     "metadata": {},
     "output_type": "execute_result"
    }
   ],
   "source": [
    "hist = dates.map(lambda row: row[1]).histogram(10)\n",
    "hist"
   ]
  },
  {
   "cell_type": "code",
   "execution_count": 9,
   "metadata": {
    "collapsed": false
   },
   "outputs": [],
   "source": [
    "import matplotlib.pyplot as plt\n",
    "plt.plot(hist[1])\n",
    "plt.show()"
   ]
  },
  {
   "cell_type": "markdown",
   "metadata": {
    "collapsed": true
   },
   "source": [
    "# Top Sellers"
   ]
  },
  {
   "cell_type": "code",
   "execution_count": 10,
   "metadata": {
    "collapsed": false
   },
   "outputs": [
    {
     "data": {
      "text/plain": [
       "[[u'420374',\n",
       "  u'2014-04-06T18:44:58.314Z',\n",
       "  u'214537888',\n",
       "  u'12462',\n",
       "  u'1',\n",
       "  u'2014-04-06',\n",
       "  3018],\n",
       " [u'420374',\n",
       "  u'2014-04-06T18:44:58.325Z',\n",
       "  u'214537850',\n",
       "  u'10471',\n",
       "  u'1',\n",
       "  u'2014-04-06',\n",
       "  3018]]"
      ]
     },
     "execution_count": 10,
     "metadata": {},
     "output_type": "execute_result"
    }
   ],
   "source": [
    "orders.take(2)"
   ]
  },
  {
   "cell_type": "code",
   "execution_count": 11,
   "metadata": {
    "collapsed": false
   },
   "outputs": [],
   "source": [
    "train_end = 3100\n",
    "train_period = 90\n",
    "train_start = train_end - train_period"
   ]
  },
  {
   "cell_type": "code",
   "execution_count": 11,
   "metadata": {
    "collapsed": false
   },
   "outputs": [
    {
     "data": {
      "text/plain": [
       "[(u'643078800', 15203),\n",
       " (u'214829878', 7358),\n",
       " (u'214829887', 4476),\n",
       " (u'214834880', 3500),\n",
       " (u'214834877', 3446),\n",
       " (u'214821277', 3201),\n",
       " (u'214829882', 3160),\n",
       " (u'214829880', 3139),\n",
       " (u'214826610', 3046),\n",
       " (u'214831946', 2779),\n",
       " (u'214831948', 2643),\n",
       " (u'214835019', 2479),\n",
       " (u'214835167', 2427),\n",
       " (u'214835109', 2392),\n",
       " (u'214821305', 2151),\n",
       " (u'214836932', 2055),\n",
       " (u'214829885', 1997),\n",
       " (u'214845131', 1889),\n",
       " (u'214839973', 1884),\n",
       " (u'214835017', 1867),\n",
       " (u'214826990', 1803),\n",
       " (u'214844439', 1764),\n",
       " (u'214836924', 1710),\n",
       " (u'214829765', 1691),\n",
       " (u'214839313', 1665),\n",
       " (u'214821309', 1664),\n",
       " (u'214820261', 1620),\n",
       " (u'214835747', 1604),\n",
       " (u'214834867', 1601),\n",
       " (u'214821285', 1588)]"
      ]
     },
     "execution_count": 11,
     "metadata": {},
     "output_type": "execute_result"
    }
   ],
   "source": [
    "import operator\n",
    "top_sellers = (orders\n",
    "               .filter(lambda row: train_end >= row[6] and row[6] >= train_start)\n",
    "               .map(lambda row: (row[2], 1))\n",
    "               .reduceByKey(operator.add)\n",
    "               )\n",
    "top_sellers.takeOrdered(30, lambda row: -row[1])"
   ]
  },
  {
   "cell_type": "markdown",
   "metadata": {
    "collapsed": true
   },
   "source": [
    "# KNN"
   ]
  },
  {
   "cell_type": "code",
   "execution_count": 12,
   "metadata": {
    "collapsed": false
   },
   "outputs": [
    {
     "data": {
      "text/plain": [
       "[(u'214697848', <pyspark.resultiterable.ResultIterable at 0x7f97db3a8550>),\n",
       " (u'214697840', <pyspark.resultiterable.ResultIterable at 0x7f97dab0c8d0>)]"
      ]
     },
     "execution_count": 12,
     "metadata": {},
     "output_type": "execute_result"
    }
   ],
   "source": [
    "prod_session = (orders\n",
    "                .filter(lambda row: train_end >= row[6] and row[6] >= train_start)\n",
    "                .map(lambda row: (row[2], row[0]))\n",
    "                .groupByKey()\n",
    "                )\n",
    "prod_session.take(2)"
   ]
  },
  {
   "cell_type": "code",
   "execution_count": 13,
   "metadata": {
    "collapsed": false
   },
   "outputs": [
    {
     "data": {
      "text/plain": [
       "14591"
      ]
     },
     "execution_count": 13,
     "metadata": {},
     "output_type": "execute_result"
    }
   ],
   "source": [
    "prod_session.count()"
   ]
  },
  {
   "cell_type": "code",
   "execution_count": 26,
   "metadata": {
    "collapsed": true
   },
   "outputs": [],
   "source": [
    "prod_session_1 = prod_session.sample(withReplacement=False, fraction=0.1)"
   ]
  },
  {
   "cell_type": "code",
   "execution_count": 27,
   "metadata": {
    "collapsed": false
   },
   "outputs": [
    {
     "data": {
      "text/plain": [
       "1483"
      ]
     },
     "execution_count": 27,
     "metadata": {},
     "output_type": "execute_result"
    }
   ],
   "source": [
    "prod_session_1.count()"
   ]
  },
  {
   "cell_type": "code",
   "execution_count": 58,
   "metadata": {
    "collapsed": true
   },
   "outputs": [],
   "source": [
    "compare = prod_session.cartesian(prod_session)\n",
    "#compare = prod_session_1.cartesian(prod_session_1)"
   ]
  },
  {
   "cell_type": "code",
   "execution_count": 59,
   "metadata": {
    "collapsed": false
   },
   "outputs": [
    {
     "data": {
      "text/plain": [
       "[((u'214697848', <pyspark.resultiterable.ResultIterable at 0x7f97a809e0d0>),\n",
       "  (u'214697848', <pyspark.resultiterable.ResultIterable at 0x7f97a8097850>)),\n",
       " ((u'214697848', <pyspark.resultiterable.ResultIterable at 0x7f97a8097990>),\n",
       "  (u'214697840', <pyspark.resultiterable.ResultIterable at 0x7f97a8097810>))]"
      ]
     },
     "execution_count": 59,
     "metadata": {},
     "output_type": "execute_result"
    }
   ],
   "source": [
    "compare.take(2)"
   ]
  },
  {
   "cell_type": "code",
   "execution_count": 60,
   "metadata": {
    "collapsed": false
   },
   "outputs": [
    {
     "data": {
      "text/plain": [
       "212897281"
      ]
     },
     "execution_count": 60,
     "metadata": {},
     "output_type": "execute_result"
    }
   ],
   "source": [
    "compare.count()"
   ]
  },
  {
   "cell_type": "code",
   "execution_count": 61,
   "metadata": {
    "collapsed": true
   },
   "outputs": [],
   "source": [
    "import math\n",
    "\n",
    "def cossim(row):\n",
    "    p1 = row[0][0]\n",
    "    p2 = row[1][0]\n",
    "    if p1 == p2:\n",
    "        return (p1, p2, 1.0)\n",
    "    s1 = row[0][1]\n",
    "    s2 = row[1][1]\n",
    "    l1 = len(s1)\n",
    "    l2 = len(s2)\n",
    "    if l1 == 0 or l2 == 0:\n",
    "        retunr (p1, p2, 0)\n",
    "    numerator = 0\n",
    "    for sess1 in s1:\n",
    "        if sess1 in s2: \n",
    "            numerator = numerator+1\n",
    "    if numerator == 0:\n",
    "        return (p1, p2, 0.0)\n",
    "    denominator1 = math.sqrt(l1)\n",
    "    denominator2 =  math.sqrt(len(s2))\n",
    "\n",
    "    return (p1, p2, float(numerator)/ (denominator1 * denominator2))"
   ]
  },
  {
   "cell_type": "code",
   "execution_count": 62,
   "metadata": {
    "collapsed": false
   },
   "outputs": [
    {
     "data": {
      "text/plain": [
       "[(u'214697840', u'214697837', 0.35355339059327373),\n",
       " (u'214680457', u'214533245', 0.16666666666666669),\n",
       " (u'214612672', u'214532107', 0.43835616438356173),\n",
       " (u'214511092', u'214675950', 0.4999999999999999),\n",
       " (u'214516042', u'214534880', 0.2886751345948129),\n",
       " (u'214612672', u'214744768', 0.3333654881912033),\n",
       " (u'214684260', u'214712402', 0.13736056394868904),\n",
       " (u'214712790', u'214690708', 0.11952286093343936),\n",
       " (u'214648466', u'214837260', 0.21320071635561041),\n",
       " (u'214531584', u'214600824', 0.1315587028960544)]"
      ]
     },
     "execution_count": 62,
     "metadata": {},
     "output_type": "execute_result"
    }
   ],
   "source": [
    "threshold = 0.1\n",
    "sim = compare.map(cossim).filter(lambda row: row[2] > threshold and row[0] != row[1])\n",
    "sim.take(10)"
   ]
  },
  {
   "cell_type": "code",
   "execution_count": 63,
   "metadata": {
    "collapsed": false
   },
   "outputs": [
    {
     "data": {
      "text/plain": [
       "[(u'214539285', <pyspark.resultiterable.ResultIterable at 0x7f97a80ab710>),\n",
       " (u'214677596', <pyspark.resultiterable.ResultIterable at 0x7f97a80ab150>)]"
      ]
     },
     "execution_count": 63,
     "metadata": {},
     "output_type": "execute_result"
    }
   ],
   "source": [
    "knn_sim_grouped = (sim\n",
    "               .map(lambda row: (row[0], (row[1], row[2])))\n",
    "               .groupByKey()\n",
    "              )\n",
    "knn_sim_grouped.take(2)"
   ]
  },
  {
   "cell_type": "code",
   "execution_count": 64,
   "metadata": {
    "collapsed": true
   },
   "outputs": [],
   "source": [
    "max = 10\n",
    "def sort_tuples(row):\n",
    "    prod = row[0]\n",
    "    spl = row[1]\n",
    "    spl_sorted = sorted(spl, key=(lambda t: -1*t[1]))\n",
    "    out = \" \".join(\"%s:%g\" % (p,s) for (p, s) in spl_sorted[:max])\n",
    "        \n",
    "    return (prod, out)\n",
    "           "
   ]
  },
  {
   "cell_type": "code",
   "execution_count": 65,
   "metadata": {
    "collapsed": false
   },
   "outputs": [
    {
     "data": {
      "text/plain": [
       "[(u'214539285', u'214539287:0.25'),\n",
       " (u'214677596',\n",
       "  u'214678074:0.341882 214678076:0.218218 214652977:0.209657 214704157:0.142857 214677902:0.142857 214698013:0.133631 214845596:0.13159 214698470:0.125988 214677836:0.104828'),\n",
       " (u'214691668',\n",
       "  u'214530793:0.316228 214691666:0.282843 214691353:0.158114 214842446:0.129099 214691638:0.119523 214849262:0.119523 214838720:0.111803 214849269:0.111803'),\n",
       " (u'214746335', u'214830037:1'),\n",
       " (u'214691660',\n",
       "  u'214691402:0.377964 214691608:0.338062 214691664:0.283473 214838756:0.239046 214691662:0.188982 214691677:0.155936 214691392:0.154303 214843912:0.14825 214691683:0.137505 214691634:0.129641'),\n",
       " (u'214663852', u'214510447:0.150756'),\n",
       " (u'214535591', u'214697351:0.258199 214587840:0.19245'),\n",
       " (u'214819389', u'214710950:0.105409'),\n",
       " (u'214716752', u'214576693:0.213201 214561644:0.100504'),\n",
       " (u'214741631', u'214826850:0.57735 214834854:0.152499'),\n",
       " (u'214533489', u'214589780:0.174078'),\n",
       " (u'214819385', u'214557913:0.144338 214725532:0.14072'),\n",
       " (u'214826945', u'214838107:0.258599 214829790:0.116608 214832143:0.11585'),\n",
       " (u'214838102', u'214832015:0.159489 214838105:0.145111 214838107:0.127358'),\n",
       " (u'214837033', u'214760897:0.182574'),\n",
       " (u'214843395',\n",
       "  u'214838739:0.447214 214691242:0.3 214838400:0.3 214691240:0.253546 214691480:0.182574 214691484:0.119523 214840856:0.111803 214691471:0.106904'),\n",
       " (u'214843391',\n",
       "  u'214843925:0.301511 214843882:0.272727 214843914:0.174078 214843982:0.165145 214843412:0.150756 214844285:0.1066 214843965:0.1066'),\n",
       " (u'214847377', u'214708395:0.117851'),\n",
       " (u'214687663', u'214687667:0.816497 214696511:0.516398 214717061:0.348155'),\n",
       " (u'214709222',\n",
       "  u'214698699:0.5 214697368:0.353553 214710360:0.204124 214710146:0.188982 214709336:0.176777 214575112:0.176777 214684453:0.150756 214668219:0.111803 214556717:0.109109 214820188:0.102062'),\n",
       " (u'214687667', u'214687663:0.816497 214696511:0.632456 214717061:0.426401'),\n",
       " (u'214516040', u'214748321:0.138675'),\n",
       " (u'214584928',\n",
       "  u'214697981:0.333333 214711633:0.19245 214556717:0.145479 214532158:0.125988 214709336:0.117851 214675920:0.111111 214668755:0.111111'),\n",
       " (u'214516048', u'214658593:0.136083 214838797:0.117851 214710283:0.105409'),\n",
       " (u'214717539', u'214578847:0.148087'),\n",
       " (u'214713427',\n",
       "  u'214684635:0.57735 214567085:0.218218 214710099:0.122169 214832786:0.102598'),\n",
       " (u'214833341', u'214833665:0.19245'),\n",
       " (u'214674416', u'214846224:0.185695'),\n",
       " (u'214836980', u'214836977:0.814092 214512137:0.177123 214512122:0.135113'),\n",
       " (u'214833594', u'214833592:0.205196')]"
      ]
     },
     "execution_count": 65,
     "metadata": {},
     "output_type": "execute_result"
    }
   ],
   "source": [
    "res = knn_sim_grouped.map(sort_tuples)\n",
    "res.take(30)"
   ]
  },
  {
   "cell_type": "code",
   "execution_count": 66,
   "metadata": {
    "collapsed": true
   },
   "outputs": [],
   "source": [
    "knn_model = \"knn_model.txt\"\n",
    "def store_knn(knn, path):\n",
    "    with open(path, \"w\") as out:\n",
    "        for p, simp in knn.iteritems():\n",
    "            out.write(\"%s\\t%s\\n\" % (p, simp))\n",
    "store_knn(res.collectAsMap(), knn_model)            \n"
   ]
  },
  {
   "cell_type": "markdown",
   "metadata": {
    "collapsed": true
   },
   "source": [
    "# Apriori"
   ]
  },
  {
   "cell_type": "code",
   "execution_count": 12,
   "metadata": {
    "collapsed": false
   },
   "outputs": [
    {
     "data": {
      "text/plain": [
       "[[u'420374',\n",
       "  u'2014-04-06T18:44:58.314Z',\n",
       "  u'214537888',\n",
       "  u'12462',\n",
       "  u'1',\n",
       "  u'2014-04-06',\n",
       "  3018],\n",
       " [u'420374',\n",
       "  u'2014-04-06T18:44:58.325Z',\n",
       "  u'214537850',\n",
       "  u'10471',\n",
       "  u'1',\n",
       "  u'2014-04-06',\n",
       "  3018]]"
      ]
     },
     "execution_count": 12,
     "metadata": {},
     "output_type": "execute_result"
    }
   ],
   "source": [
    "orders.take(2)"
   ]
  },
  {
   "cell_type": "code",
   "execution_count": 13,
   "metadata": {
    "collapsed": false
   },
   "outputs": [
    {
     "data": {
      "text/plain": [
       "[(u'2797118', <pyspark.resultiterable.ResultIterable at 0x7f72d04adb10>),\n",
       " (u'2522798', <pyspark.resultiterable.ResultIterable at 0x7f72d04adf50>)]"
      ]
     },
     "execution_count": 13,
     "metadata": {},
     "output_type": "execute_result"
    }
   ],
   "source": [
    "agg_sessions = (orders\n",
    "               .filter(lambda row: train_end >= row[6] and row[6] >= train_start)\n",
    "               .map(lambda row: (row[0], row[2]))\n",
    "               .groupByKey()\n",
    "               )\n",
    "agg_sessions.take(2)"
   ]
  },
  {
   "cell_type": "code",
   "execution_count": 18,
   "metadata": {
    "collapsed": false
   },
   "outputs": [
    {
     "data": {
      "text/plain": [
       "[((214832015, 214839975), 4),\n",
       " ((214670070, 214832726), 1),\n",
       " ((214583784, 214832214), 1),\n",
       " ((214717860, 214696132), 1),\n",
       " ((214844345, 214839975), 1)]"
      ]
     },
     "execution_count": 18,
     "metadata": {},
     "output_type": "execute_result"
    }
   ],
   "source": [
    "import operator\n",
    "def prod_rel(row):\n",
    "    prods = row[1]\n",
    "    for p1 in prods:\n",
    "        for p2 in prods:\n",
    "            if p1 != p2:\n",
    "                yield((int(p1), int(p2)), 1)\n",
    "                \n",
    "prod_rel = (agg_sessions\n",
    "            .flatMap(prod_rel)\n",
    "            .reduceByKey(operator.add)\n",
    "           )\n",
    "prod_rel.take(5)"
   ]
  },
  {
   "cell_type": "code",
   "execution_count": 19,
   "metadata": {
    "collapsed": false
   },
   "outputs": [
    {
     "data": {
      "text/plain": [
       "[(214827020, 602),\n",
       " (214827022, 229),\n",
       " (214827024, 257),\n",
       " (214827026, 879),\n",
       " (214827028, 204)]"
      ]
     },
     "execution_count": 19,
     "metadata": {},
     "output_type": "execute_result"
    }
   ],
   "source": [
    "prod_counts = (prod_rel\n",
    "               .map(lambda row: (row[0][0], row[1]))\n",
    "               .reduceByKey(operator.add)\n",
    "              )\n",
    "prod_counts.take(5)"
   ]
  },
  {
   "cell_type": "code",
   "execution_count": 20,
   "metadata": {
    "collapsed": false
   },
   "outputs": [
    {
     "data": {
      "text/plain": [
       "12424"
      ]
     },
     "execution_count": 20,
     "metadata": {},
     "output_type": "execute_result"
    }
   ],
   "source": [
    "prod_counts.count()"
   ]
  },
  {
   "cell_type": "code",
   "execution_count": 27,
   "metadata": {
    "collapsed": false
   },
   "outputs": [
    {
     "data": {
      "text/plain": [
       "[(214646784, ((214646780, 1), 1)), (214827020, ((214702920, 1), 602))]"
      ]
     },
     "execution_count": 27,
     "metadata": {},
     "output_type": "execute_result"
    }
   ],
   "source": [
    "prod_rel_count1 = (prod_rel\n",
    "                  .map(lambda row: (row[0][0], (row[0][1], row[1])))\n",
    "                  .join(prod_counts)\n",
    "                 )\n",
    "prod_rel_count1.take(2)"
   ]
  },
  {
   "cell_type": "code",
   "execution_count": 28,
   "metadata": {
    "collapsed": false
   },
   "outputs": [
    {
     "data": {
      "text/plain": [
       "[(214646784, ((214646780, 9, 1), 1)),\n",
       " (214843404, ((214842568, 71, 1), 6)),\n",
       " (214843404, ((214843933, 24, 1), 6)),\n",
       " (214843404, ((214843402, 44, 1), 6)),\n",
       " (214843404, ((214691647, 11, 1), 6))]"
      ]
     },
     "execution_count": 28,
     "metadata": {},
     "output_type": "execute_result"
    }
   ],
   "source": [
    "prod_rel_count2 = (prod_rel_count1\n",
    "                  .map(lambda row: (row[1][0][0], (row[0], row[1][1], row[1][0][1])))\n",
    "                  .join(prod_counts)\n",
    "                 )\n",
    "prod_rel_count2.take(5)"
   ]
  },
  {
   "cell_type": "code",
   "execution_count": 30,
   "metadata": {
    "collapsed": false
   },
   "outputs": [
    {
     "data": {
      "text/plain": [
       "[(214646784, 1, 214646780, 9, 1),\n",
       " (214843404, 6, 214842568, 71, 1),\n",
       " (214843404, 6, 214843933, 24, 1),\n",
       " (214843404, 6, 214843402, 44, 1),\n",
       " (214843404, 6, 214691647, 11, 1),\n",
       " (214843404, 6, 214843935, 32, 1),\n",
       " (214843404, 6, 214842579, 19, 1),\n",
       " (214835214, 45, 214835212, 19, 1),\n",
       " (214835214, 45, 214697308, 19, 1),\n",
       " (214835214, 45, 214835572, 871, 1),\n",
       " (214835214, 45, 214836532, 380, 1),\n",
       " (214835214, 45, 214829392, 1065, 1),\n",
       " (214835214, 45, 214748300, 1342, 1),\n",
       " (214835214, 45, 214699284, 10, 1),\n",
       " (214835214, 45, 214717048, 501, 1),\n",
       " (214835214, 45, 214716240, 34, 1),\n",
       " (214835214, 45, 214743508, 26, 1),\n",
       " (214835214, 45, 214848120, 15, 1),\n",
       " (214835214, 45, 214827009, 1503, 1),\n",
       " (214835214, 45, 214820345, 185, 1),\n",
       " (214835214, 45, 214753513, 1301, 1),\n",
       " (214835214, 45, 214829825, 417, 1),\n",
       " (214835214, 45, 214544357, 254, 1),\n",
       " (214835214, 45, 214716941, 267, 1),\n",
       " (214835214, 45, 214839973, 6019, 1),\n",
       " (214835214, 45, 214537181, 12, 1),\n",
       " (214835214, 45, 214821309, 2440, 1),\n",
       " (214835214, 45, 214587317, 3517, 2),\n",
       " (214835214, 45, 214834877, 11035, 1),\n",
       " (214835214, 45, 214835021, 796, 1)]"
      ]
     },
     "execution_count": 30,
     "metadata": {},
     "output_type": "execute_result"
    }
   ],
   "source": [
    "prod_rel_count = (prod_rel_count2\n",
    "                  .map(lambda row: (row[0], row[1][1], row[1][0][0], row[1][0][1], row[1][0][2]))\n",
    "                 )\n",
    "prod_rel_count.take(30)"
   ]
  },
  {
   "cell_type": "code",
   "execution_count": 31,
   "metadata": {
    "collapsed": false
   },
   "outputs": [
    {
     "data": {
      "text/plain": [
       "388880"
      ]
     },
     "execution_count": 31,
     "metadata": {},
     "output_type": "execute_result"
    }
   ],
   "source": [
    "prod_rel_count.count()"
   ]
  },
  {
   "cell_type": "code",
   "execution_count": 34,
   "metadata": {
    "collapsed": false
   },
   "outputs": [
    {
     "data": {
      "text/plain": [
       "1123442"
      ]
     },
     "execution_count": 34,
     "metadata": {},
     "output_type": "execute_result"
    }
   ],
   "source": [
    "total_count = prod_counts.map(lambda row: row[1]).reduce(lambda a, b: a+b)\n",
    "total_count"
   ]
  },
  {
   "cell_type": "code",
   "execution_count": 37,
   "metadata": {
    "collapsed": true
   },
   "outputs": [],
   "source": [
    "def apriori(row):\n",
    "    # p: product, c:count, sup: support, conf: confidence, l: lift\n",
    "    p1c = row[1]\n",
    "    p2c = row[3]\n",
    "    p1p2c = row[4]\n",
    "    \n",
    "    p1sup = float(p1c)/total_count\n",
    "    p2sup = float(p2c)/total_count\n",
    "    p1p2sup = float(p1p2c)/total_count\n",
    "    \n",
    "    p1conf = p1p2sup/p1sup\n",
    "    p1lift = p1p2sup/(p1sup*p2sup)\n",
    "    return (row[0], p1c, row[2], p2c, p1p2c, p1conf, p1lift)\n",
    "  \n",
    "    "
   ]
  },
  {
   "cell_type": "code",
   "execution_count": 61,
   "metadata": {
    "collapsed": false
   },
   "outputs": [
    {
     "data": {
      "text/plain": [
       "[(214646784, 1, 214646780, 9, 1, 1.0, 124826.88888888889),\n",
       " (214843404, 6, 214842568, 71, 1, 0.16666666666666666, 2637.1877934272297),\n",
       " (214843404, 6, 214843933, 24, 1, 0.16666666666666666, 7801.680555555555),\n",
       " (214843404, 6, 214843402, 44, 1, 0.16666666666666666, 4255.462121212121),\n",
       " (214843404, 6, 214691647, 11, 1, 0.16666666666666666, 17021.848484848484),\n",
       " (214843404, 6, 214843935, 32, 1, 0.16666666666666666, 5851.260416666667),\n",
       " (214843404, 6, 214842579, 19, 1, 0.16666666666666666, 9854.754385964912),\n",
       " (214835214, 45, 214835212, 19, 1, 0.02222222222222222, 1313.9672514619883),\n",
       " (214835214, 45, 214697308, 19, 1, 0.02222222222222222, 1313.9672514619883),\n",
       " (214835214, 45, 214835572, 871, 1, 0.02222222222222222, 28.662890674830972)]"
      ]
     },
     "execution_count": 61,
     "metadata": {},
     "output_type": "execute_result"
    }
   ],
   "source": [
    "prod_apriori = prod_rel_count.map(apriori)\n",
    "prod_apriori.take(10)"
   ]
  },
  {
   "cell_type": "code",
   "execution_count": 62,
   "metadata": {
    "collapsed": true
   },
   "outputs": [],
   "source": [
    "path_apriori = \"apriori_out.txt\"\n",
    "(prod_apriori\n",
    " .map(lambda row: \"%d\\t%d\\t%d\\t%d\\t%d\\t%g\\t%g\" % (row[0], row[1], row[2], row[3], row[4], row[5], row[6]))\n",
    " .saveAsTextFile(path_apriori)\n",
    " )"
   ]
  },
  {
   "cell_type": "code",
   "execution_count": 63,
   "metadata": {
    "collapsed": false
   },
   "outputs": [
    {
     "data": {
      "text/plain": [
       "[(214712514, 9, 214712516, 10, 9, 1.0, 112344.20000000003),\n",
       " (214835730, 4, 214587662, 4, 4, 1.0, 280860.5),\n",
       " (214713300, 4, 214836924, 4290, 4, 1.0, 261.8745920745921),\n",
       " (214836234, 4, 214835694, 80, 4, 1.0, 14043.025000000001),\n",
       " (214639680, 4, 214510689, 9, 4, 1.0, 124826.88888888889),\n",
       " (214607154, 4, 214607156, 4, 4, 1.0, 280860.5),\n",
       " (214640100, 4, 214530457, 73, 4, 1.0, 15389.616438356165),\n",
       " (214591470, 2, 214591468, 2, 2, 1.0, 561721.0),\n",
       " (214709940, 16, 214622237, 164, 16, 1.0, 6850.256097560975),\n",
       " (214712694, 2, 214669768, 6, 2, 1.0, 187240.33333333334)]"
      ]
     },
     "execution_count": 63,
     "metadata": {},
     "output_type": "execute_result"
    }
   ],
   "source": [
    "prod_apriori.filter(lambda row: row[5]> 0.9 and row[6]> 1 and row[4] >1).take(10)"
   ]
  },
  {
   "cell_type": "code",
   "execution_count": null,
   "metadata": {
    "collapsed": true
   },
   "outputs": [],
   "source": []
  }
 ],
 "metadata": {
  "kernelspec": {
   "display_name": "Python 2",
   "language": "python",
   "name": "python2"
  },
  "language_info": {
   "codemirror_mode": {
    "name": "ipython",
    "version": 2
   },
   "file_extension": ".py",
   "mimetype": "text/x-python",
   "name": "python",
   "nbconvert_exporter": "python",
   "pygments_lexer": "ipython2",
   "version": "2.7.12"
  }
 },
 "nbformat": 4,
 "nbformat_minor": 0
}
