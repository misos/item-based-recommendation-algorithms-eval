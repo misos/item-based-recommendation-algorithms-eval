{
 "cells": [
  {
   "cell_type": "code",
   "execution_count": 1,
   "metadata": {
    "collapsed": false
   },
   "outputs": [
    {
     "data": {
      "text/plain": [
       "[[u'1', u'2014-04-07T10:51:09.277Z', u'214536502', u'0'],\n",
       " [u'1', u'2014-04-07T10:54:09.868Z', u'214536500', u'0'],\n",
       " [u'1', u'2014-04-07T10:54:46.998Z', u'214536506', u'0'],\n",
       " [u'1', u'2014-04-07T10:57:00.306Z', u'214577561', u'0'],\n",
       " [u'2', u'2014-04-07T13:56:37.614Z', u'214662742', u'0']]"
      ]
     },
     "execution_count": 1,
     "metadata": {},
     "output_type": "execute_result"
    }
   ],
   "source": [
    "browse_data = \"recsys_challenge/yoochoose-clicks.dat\"\n",
    "lines = sc.textFile(browse_data).map(lambda row: row.split(\",\"))\n",
    "lines.take(5)"
   ]
  },
  {
   "cell_type": "markdown",
   "metadata": {},
   "source": [
    "**yoochoose-clicks.dat**\n",
    "Each record/line in the file has the following fields/format: Session ID, Timestamp, Item ID, Category\n",
    "* Session ID – the id of the session. In one session there are one or many clicks. Could be represented as an integer number.\n",
    "* Timestamp – the time when the click occurred. Format of YYYY-MM-DDThh:mm:ss.SSSZ\n",
    "* Item ID – the unique identifier of the item that has been clicked. Could be represented as an integer number.\n",
    "* Category – the context of the click. The value \"S\" indicates a special offer, \"0\" indicates  a missing value, a number between 1 to 12 indicates a real category identifier, any other number indicates a brand. E.g. if an item has been clicked in the context of a promotion or special offer then the value will be \"S\", if the context was a brand i.e BOSCH, then the value will be an 8-10 digits number. If the item has been clicked under regular category, i.e. sport, then the value will be a number between 1 to 12. \n",
    " "
   ]
  },
  {
   "cell_type": "code",
   "execution_count": 2,
   "metadata": {
    "collapsed": true
   },
   "outputs": [],
   "source": [
    "from datetime import date\n",
    "\n",
    "#calculate MyBuys dateID, we need this to select right data dataID is column almost in all tables \n",
    "def calcDateID(year, month, day):\n",
    "    day1 = date(2006, 1, 1)\n",
    "    dayWanted = date(year, month, day)\n",
    "    delta = dayWanted - day1\n",
    "    return delta.days + 1 # we need to add day one as first day not 0\n"
   ]
  },
  {
   "cell_type": "code",
   "execution_count": 3,
   "metadata": {
    "collapsed": false
   },
   "outputs": [
    {
     "data": {
      "text/plain": [
       "[[u'1', u'2014-04-07T10:51:09.277Z', u'214536502', u'0', u'2014-04-07', 3019],\n",
       " [u'1', u'2014-04-07T10:54:09.868Z', u'214536500', u'0', u'2014-04-07', 3019],\n",
       " [u'1', u'2014-04-07T10:54:46.998Z', u'214536506', u'0', u'2014-04-07', 3019]]"
      ]
     },
     "execution_count": 3,
     "metadata": {},
     "output_type": "execute_result"
    }
   ],
   "source": [
    "browse = (lines\n",
    "          .map(lambda row: row + [row[1][:10], calcDateID(int(row[1][:4]), int(row[1][5:7]), int(row[1][8:10]))])\n",
    "          )\n",
    "browse.take(3)"
   ]
  },
  {
   "cell_type": "code",
   "execution_count": 4,
   "metadata": {
    "collapsed": false
   },
   "outputs": [
    {
     "data": {
      "text/plain": [
       "PythonRDD[4] at RDD at PythonRDD.scala:43"
      ]
     },
     "execution_count": 4,
     "metadata": {},
     "output_type": "execute_result"
    }
   ],
   "source": [
    "browse.unpersist()"
   ]
  },
  {
   "cell_type": "markdown",
   "metadata": {},
   "source": [
    "# Dates"
   ]
  },
  {
   "cell_type": "code",
   "execution_count": 5,
   "metadata": {
    "collapsed": false
   },
   "outputs": [],
   "source": [
    "dates = browse.map(lambda row: (row[5], 1)).reduceByKey(lambda a, b: a+b)"
   ]
  },
  {
   "cell_type": "code",
   "execution_count": null,
   "metadata": {
    "collapsed": true
   },
   "outputs": [],
   "source": []
  },
  {
   "cell_type": "code",
   "execution_count": 6,
   "metadata": {
    "collapsed": false
   },
   "outputs": [
    {
     "data": {
      "text/plain": [
       "[(3013, 220872),\n",
       " (3014, 211495),\n",
       " (3015, 223702),\n",
       " (3016, 165630),\n",
       " (3017, 180876),\n",
       " (3018, 312974),\n",
       " (3019, 239043),\n",
       " (3020, 179555),\n",
       " (3021, 202836),\n",
       " (3022, 184023)]"
      ]
     },
     "execution_count": 6,
     "metadata": {},
     "output_type": "execute_result"
    }
   ],
   "source": [
    "dates.takeOrdered(10, lambda row: row[0])"
   ]
  },
  {
   "cell_type": "code",
   "execution_count": 7,
   "metadata": {
    "collapsed": false
   },
   "outputs": [
    {
     "data": {
      "text/plain": [
       "183"
      ]
     },
     "execution_count": 7,
     "metadata": {},
     "output_type": "execute_result"
    }
   ],
   "source": [
    "dates.count()"
   ]
  },
  {
   "cell_type": "markdown",
   "metadata": {
    "collapsed": true
   },
   "source": [
    "# Eval data"
   ]
  },
  {
   "cell_type": "code",
   "execution_count": 8,
   "metadata": {
    "collapsed": false
   },
   "outputs": [
    {
     "data": {
      "text/plain": [
       "[[u'1', u'2014-04-07T10:51:09.277Z', u'214536502', u'0', u'2014-04-07', 3019],\n",
       " [u'1', u'2014-04-07T10:54:09.868Z', u'214536500', u'0', u'2014-04-07', 3019]]"
      ]
     },
     "execution_count": 8,
     "metadata": {},
     "output_type": "execute_result"
    }
   ],
   "source": [
    "browse.take(2)"
   ]
  },
  {
   "cell_type": "code",
   "execution_count": 9,
   "metadata": {
    "collapsed": false
   },
   "outputs": [],
   "source": [
    "train_end = 3100\n",
    "train_period = 90\n",
    "train_start = train_end - train_period\n",
    "test_start = train_end + 1\n",
    "test_end = test_start + 14\n"
   ]
  },
  {
   "cell_type": "code",
   "execution_count": 10,
   "metadata": {
    "collapsed": false
   },
   "outputs": [
    {
     "data": {
      "text/plain": [
       "[(214582170, 5563134),\n",
       " (214582170, 5563134),\n",
       " (214845583, 5563133),\n",
       " (214845585, 5563133),\n",
       " (214645179, 5563132),\n",
       " (214558772, 5563132),\n",
       " (214542579, 5563132),\n",
       " (214845491, 5563128),\n",
       " (214586610, 5563123),\n",
       " (214586610, 5563123)]"
      ]
     },
     "execution_count": 10,
     "metadata": {},
     "output_type": "execute_result"
    }
   ],
   "source": [
    "import operator\n",
    "rec_context = (browse\n",
    "               .filter(lambda row: test_end >= row[5] and row[5] >= test_start)\n",
    "               .map(lambda row: (int(row[2]), int(row[0])))\n",
    "               .cache()\n",
    "               )\n",
    "rec_context.take(10)"
   ]
  },
  {
   "cell_type": "markdown",
   "metadata": {
    "collapsed": true
   },
   "source": [
    "# Load Model"
   ]
  },
  {
   "cell_type": "code",
   "execution_count": 11,
   "metadata": {
    "collapsed": true
   },
   "outputs": [],
   "source": [
    "prod_sim_model = \"product_similarity_based_on_u2u_CF.txt\""
   ]
  },
  {
   "cell_type": "code",
   "execution_count": 12,
   "metadata": {
    "collapsed": true
   },
   "outputs": [],
   "source": [
    "def prodList(row):\n",
    "    pair = row.split(\"\\t\")\n",
    "    prod = int(pair[0])\n",
    "    rel_prods = []\n",
    "    if len(pair) > 1 and pair[1]:\n",
    "        for rp_and_score in pair[1].split(\" \"):\n",
    "            rp_pair = rp_and_score.split(\":\")\n",
    "            rp_id = int(rp_pair[0])\n",
    "            rp_score = float(rp_pair[1])\n",
    "            if prod != rp_id: # we do not want to recomend same as viewed product\n",
    "                rel_prods.append((rp_id, rp_score))\n",
    "    return (prod, rel_prods)"
   ]
  },
  {
   "cell_type": "code",
   "execution_count": 13,
   "metadata": {
    "collapsed": false
   },
   "outputs": [
    {
     "data": {
      "text/plain": [
       "[(214712940,\n",
       "  [(214697660, 0.162132),\n",
       "   (214676578, 0.15562),\n",
       "   (214836842, 0.153352),\n",
       "   (214668275, 0.146447),\n",
       "   (214601203, 0.141755),\n",
       "   (214833647, 0.139059),\n",
       "   (214582822, 0.136309),\n",
       "   (214572264, 0.13461),\n",
       "   (214652925, 0.132562),\n",
       "   (214856769, 0.128596),\n",
       "   (214830084, 0.125441),\n",
       "   (214716255, 0.125063),\n",
       "   (214516048, 0.124612),\n",
       "   (214707945, 0.12331),\n",
       "   (214833645, 0.123221),\n",
       "   (214579464, 0.121433),\n",
       "   (214509300, 0.119911),\n",
       "   (214644202, 0.118585),\n",
       "   (214537374, 0.118443),\n",
       "   (214639468, 0.118082),\n",
       "   (214628923, 0.117274),\n",
       "   (214577589, 0.116546),\n",
       "   (214836442, 0.115455),\n",
       "   (214837419, 0.115317),\n",
       "   (214703790, 0.114861),\n",
       "   (214581699, 0.114372),\n",
       "   (214572230, 0.114114),\n",
       "   (214606787, 0.114104),\n",
       "   (214699297, 0.113996),\n",
       "   (214552080, 0.113017)]),\n",
       " (214844368,\n",
       "  [(214844355, 1.108369),\n",
       "   (214844370, 1.063765),\n",
       "   (214835426, 1.013052),\n",
       "   (214835428, 1.009835),\n",
       "   (214845590, 0.999638),\n",
       "   (214845585, 0.995302),\n",
       "   (214835064, 0.969392),\n",
       "   (214844372, 0.958687),\n",
       "   (214844398, 0.95532),\n",
       "   (214844396, 0.95497),\n",
       "   (214844402, 0.953096),\n",
       "   (214844400, 0.952091),\n",
       "   (214835473, 0.949913),\n",
       "   (214826949, 0.937375),\n",
       "   (214845583, 0.933932),\n",
       "   (214835070, 0.914292),\n",
       "   (214845587, 0.885092),\n",
       "   (214845412, 0.876433),\n",
       "   (214844345, 0.868335),\n",
       "   (214844347, 0.847916),\n",
       "   (214844342, 0.829549),\n",
       "   (214844340, 0.800229),\n",
       "   (214832150, 0.746837),\n",
       "   (214850402, 0.734669),\n",
       "   (214845405, 0.657271),\n",
       "   (214846035, 0.59503),\n",
       "   (214554450, 0.593195),\n",
       "   (214846065, 0.550711),\n",
       "   (214846447, 0.546243),\n",
       "   (214845407, 0.543607)])]"
      ]
     },
     "execution_count": 13,
     "metadata": {},
     "output_type": "execute_result"
    }
   ],
   "source": [
    "product_relations = sc.textFile(prod_sim_model).map(prodList).repartition(128).cache()\n",
    "product_relations.take(2)"
   ]
  },
  {
   "cell_type": "code",
   "execution_count": null,
   "metadata": {
    "collapsed": true
   },
   "outputs": [],
   "source": []
  },
  {
   "cell_type": "markdown",
   "metadata": {},
   "source": [
    "# Generate Prediction LFS"
   ]
  },
  {
   "cell_type": "code",
   "execution_count": 14,
   "metadata": {
    "collapsed": true
   },
   "outputs": [],
   "source": [
    "max_rec = 5"
   ]
  },
  {
   "cell_type": "code",
   "execution_count": 15,
   "metadata": {
    "collapsed": true
   },
   "outputs": [],
   "source": [
    "def get_recommendations(row):\n",
    "    #example:\n",
    "    #(62663540764,\n",
    "    # (u'session',\n",
    "    #  [(62663701317, 24.05831508152187), (62664054566, 22.332222647033632)]))\n",
    "\n",
    "    prod = row[0]\n",
    "    sess = row[1][0]\n",
    "    rp_list = row[1][1]\n",
    "    maxCount = max_rec\n",
    "    if len(rp_list) < maxCount:\n",
    "        maxCount = len(rp_list) #we can return only what we can reccommend\n",
    "    for i in range(0, maxCount):\n",
    "        yield (sess, rp_list[i][0], rp_list[i][1])\n"
   ]
  },
  {
   "cell_type": "code",
   "execution_count": 16,
   "metadata": {
    "collapsed": false
   },
   "outputs": [
    {
     "data": {
      "text/plain": [
       "[(5563279, 214819528, 0.82278),\n",
       " (5563279, 214535010, 0.814112),\n",
       " (5563279, 214582200, 0.811047),\n",
       " (5563279, 214846010, 0.807277),\n",
       " (5563279, 214846318, 0.788317),\n",
       " (5563784, 214819528, 0.82278),\n",
       " (5563784, 214535010, 0.814112),\n",
       " (5563784, 214582200, 0.811047),\n",
       " (5563784, 214846010, 0.807277),\n",
       " (5563784, 214846318, 0.788317),\n",
       " (5563843, 214819528, 0.82278),\n",
       " (5563843, 214535010, 0.814112),\n",
       " (5563843, 214582200, 0.811047),\n",
       " (5563843, 214846010, 0.807277),\n",
       " (5563843, 214846318, 0.788317)]"
      ]
     },
     "execution_count": 16,
     "metadata": {},
     "output_type": "execute_result"
    }
   ],
   "source": [
    "join = rec_context.join(product_relations)\n",
    "recomendations = join.flatMap(get_recommendations)\n",
    "recomendations.take(15)"
   ]
  },
  {
   "cell_type": "markdown",
   "metadata": {
    "collapsed": true
   },
   "source": [
    "# Evaluate LFS"
   ]
  },
  {
   "cell_type": "code",
   "execution_count": 17,
   "metadata": {
    "collapsed": false
   },
   "outputs": [
    {
     "data": {
      "text/plain": [
       "[[u'420374', u'2014-04-06T18:44:58.314Z', u'214537888', u'12462', u'1'],\n",
       " [u'420374', u'2014-04-06T18:44:58.325Z', u'214537850', u'10471', u'1'],\n",
       " [u'281626', u'2014-04-06T09:40:13.032Z', u'214535653', u'1883', u'1'],\n",
       " [u'420368', u'2014-04-04T06:13:28.848Z', u'214530572', u'6073', u'1'],\n",
       " [u'420368', u'2014-04-04T06:13:28.858Z', u'214835025', u'2617', u'1']]"
      ]
     },
     "execution_count": 17,
     "metadata": {},
     "output_type": "execute_result"
    }
   ],
   "source": [
    "orders_data = \"recsys_challenge/yoochoose-buys.dat\"\n",
    "lines = sc.textFile(orders_data).map(lambda row: row.split(\",\"))\n",
    "lines.take(5)"
   ]
  },
  {
   "cell_type": "markdown",
   "metadata": {
    "collapsed": true
   },
   "source": [
    "**yoochoose-buys.dat**\n",
    "* Session ID - the id of the session. In one session there are one or many buying events. Could be represented as an integer number.\n",
    "* Timestamp - the time when the buy occurred. Format of YYYY-MM-DDThh:mm:ss.SSSZ\n",
    "* Item ID – the unique identifier of item that has been bought. Could be represented as an integer number.\n",
    "* Price – the price of the item. Could be represented as an integer number.\n",
    "* Quantity – the quantity in this buying.  Could be represented as an integer number."
   ]
  },
  {
   "cell_type": "code",
   "execution_count": 18,
   "metadata": {
    "collapsed": false
   },
   "outputs": [
    {
     "data": {
      "text/plain": [
       "[[u'420374',\n",
       "  u'2014-04-06T18:44:58.314Z',\n",
       "  u'214537888',\n",
       "  u'12462',\n",
       "  u'1',\n",
       "  u'2014-04-06',\n",
       "  3018],\n",
       " [u'420374',\n",
       "  u'2014-04-06T18:44:58.325Z',\n",
       "  u'214537850',\n",
       "  u'10471',\n",
       "  u'1',\n",
       "  u'2014-04-06',\n",
       "  3018],\n",
       " [u'281626',\n",
       "  u'2014-04-06T09:40:13.032Z',\n",
       "  u'214535653',\n",
       "  u'1883',\n",
       "  u'1',\n",
       "  u'2014-04-06',\n",
       "  3018]]"
      ]
     },
     "execution_count": 18,
     "metadata": {},
     "output_type": "execute_result"
    }
   ],
   "source": [
    "orders = (lines\n",
    "          .map(lambda row: row + [row[1][:10], calcDateID(int(row[1][:4]), int(row[1][5:7]), int(row[1][8:10]))])\n",
    "          .cache()\n",
    "          )\n",
    "orders.take(3)"
   ]
  },
  {
   "cell_type": "code",
   "execution_count": 19,
   "metadata": {
    "collapsed": false
   },
   "outputs": [
    {
     "data": {
      "text/plain": [
       "[((5926073, 214846397), 1), ((5912968, 214850870), 1)]"
      ]
     },
     "execution_count": 19,
     "metadata": {},
     "output_type": "execute_result"
    }
   ],
   "source": [
    "#it is not realy good because I can match with recomendation done after order we need to fix\n",
    "purchased_pairs = (orders\n",
    "                   .filter(lambda row: test_end >= row[6] and row[6] >= test_start)\n",
    "                   .map(lambda row: ((int(row[0]), int(row[2])), 1))\n",
    "                   .reduceByKey(operator.add)\n",
    "               )\n",
    "purchased_pairs.take(2)"
   ]
  },
  {
   "cell_type": "code",
   "execution_count": 20,
   "metadata": {
    "collapsed": true
   },
   "outputs": [],
   "source": [
    "num_purch_all = purchased_pairs.count()"
   ]
  },
  {
   "cell_type": "code",
   "execution_count": 21,
   "metadata": {
    "collapsed": true
   },
   "outputs": [],
   "source": [
    "num_sess = (recomendations\n",
    "            .map(lambda row: (row[0], 1))\n",
    "            .reduceByKey(operator.add)\n",
    "            .count()\n",
    "           )"
   ]
  },
  {
   "cell_type": "code",
   "execution_count": 22,
   "metadata": {
    "collapsed": true
   },
   "outputs": [],
   "source": [
    "unique_rec = (recomendations\n",
    "              .map(lambda row: ((row[0], row[1]), 1))\n",
    "              .reduceByKey(operator.add)\n",
    "              )"
   ]
  },
  {
   "cell_type": "code",
   "execution_count": 23,
   "metadata": {
    "collapsed": true
   },
   "outputs": [],
   "source": [
    "num_purch = (purchased_pairs\n",
    "             .join(unique_rec)\n",
    "             .count()\n",
    "             )"
   ]
  },
  {
   "cell_type": "code",
   "execution_count": 24,
   "metadata": {
    "collapsed": true
   },
   "outputs": [],
   "source": [
    "num_rec_sess = (rec_context\n",
    "                .map(lambda row: (row[1], 1))\n",
    "                .reduceByKey(operator.add)\n",
    "                .count() \n",
    "                )"
   ]
  },
  {
   "cell_type": "code",
   "execution_count": 25,
   "metadata": {
    "collapsed": true
   },
   "outputs": [],
   "source": [
    "num_page_visits = rec_context.count()"
   ]
  },
  {
   "cell_type": "code",
   "execution_count": 26,
   "metadata": {
    "collapsed": true
   },
   "outputs": [],
   "source": [
    "num_rec = recomendations.count()"
   ]
  },
  {
   "cell_type": "code",
   "execution_count": 27,
   "metadata": {
    "collapsed": false
   },
   "outputs": [
    {
     "name": "stdout",
     "output_type": "stream",
     "text": [
      "2010000\t9637512\t555341\t543744\t73889\t36422\t0.0669837\n"
     ]
    }
   ],
   "source": [
    "#page visits\trecomendations\tall sessions\tsession\torders\tconversion rate\n",
    "print \"%d\\t%d\\t%d\\t%d\\t%d\\t%d\\t%g\" % (num_page_visits, num_rec, \n",
    "                                  num_rec_sess, num_sess, \n",
    "                                  num_purch_all, num_purch, float(num_purch)/num_sess)"
   ]
  },
  {
   "cell_type": "code",
   "execution_count": null,
   "metadata": {
    "collapsed": true
   },
   "outputs": [],
   "source": []
  },
  {
   "cell_type": "markdown",
   "metadata": {},
   "source": [
    "# Evaluate KNN"
   ]
  },
  {
   "cell_type": "code",
   "execution_count": 393,
   "metadata": {
    "collapsed": false
   },
   "outputs": [
    {
     "data": {
      "text/plain": [
       "[(214687792, [(214697585, 0.156174), (214559803, 0.125218)]),\n",
       " (214674620, [(214674671, 0.408248)])]"
      ]
     },
     "execution_count": 393,
     "metadata": {},
     "output_type": "execute_result"
    }
   ],
   "source": [
    "#loading model\n",
    "knn_model = \"knn_model.txt\"\n",
    "knn_product_relations = sc.textFile(knn_model).map(prodList).repartition(128).cache()\n",
    "knn_product_relations.take(2)"
   ]
  },
  {
   "cell_type": "code",
   "execution_count": 394,
   "metadata": {
    "collapsed": false
   },
   "outputs": [
    {
     "data": {
      "text/plain": [
       "[(5563279, 214538829, 0.105851),\n",
       " (5563784, 214538829, 0.105851),\n",
       " (5563843, 214538829, 0.105851),\n",
       " (5565927, 214538829, 0.105851),\n",
       " (5554507, 214538829, 0.105851),\n",
       " (5554819, 214538829, 0.105851),\n",
       " (5555113, 214538829, 0.105851),\n",
       " (5555582, 214538829, 0.105851),\n",
       " (5555582, 214538829, 0.105851),\n",
       " (5556728, 214538829, 0.105851),\n",
       " (5556829, 214538829, 0.105851),\n",
       " (5557831, 214538829, 0.105851),\n",
       " (5557854, 214538829, 0.105851),\n",
       " (5559118, 214538829, 0.105851),\n",
       " (5560712, 214538829, 0.105851)]"
      ]
     },
     "execution_count": 394,
     "metadata": {},
     "output_type": "execute_result"
    }
   ],
   "source": [
    "# generate predictions\n",
    "knn_join = rec_context.join(knn_product_relations)\n",
    "knn_recomendations = knn_join.flatMap(get_recommendations)\n",
    "knn_recomendations.take(15)"
   ]
  },
  {
   "cell_type": "code",
   "execution_count": 395,
   "metadata": {
    "collapsed": true
   },
   "outputs": [],
   "source": [
    "knn_num_sess = (knn_recomendations\n",
    "            .map(lambda row: (row[0], 1))\n",
    "            .reduceByKey(operator.add)\n",
    "            .count()\n",
    "           )"
   ]
  },
  {
   "cell_type": "code",
   "execution_count": 396,
   "metadata": {
    "collapsed": true
   },
   "outputs": [],
   "source": [
    "knn_unique_rec = (knn_recomendations\n",
    "              .map(lambda row: ((row[0], row[1]), 1))\n",
    "              .reduceByKey(operator.add)\n",
    "              )"
   ]
  },
  {
   "cell_type": "code",
   "execution_count": 397,
   "metadata": {
    "collapsed": true
   },
   "outputs": [],
   "source": [
    "knn_num_purch = (purchased_pairs\n",
    "             .join(knn_unique_rec)\n",
    "             .count()\n",
    "             )"
   ]
  },
  {
   "cell_type": "code",
   "execution_count": 398,
   "metadata": {
    "collapsed": true
   },
   "outputs": [],
   "source": [
    "knn_num_rec = knn_recomendations.count()"
   ]
  },
  {
   "cell_type": "code",
   "execution_count": 399,
   "metadata": {
    "collapsed": false
   },
   "outputs": [
    {
     "name": "stdout",
     "output_type": "stream",
     "text": [
      "2010000\t3780143\t555341\t425450\t73889\t20232\t0.0475544\n"
     ]
    }
   ],
   "source": [
    "#page visits\trecomendations\tall sessions\tsession\torders\tconversion rate\n",
    "print \"%d\\t%d\\t%d\\t%d\\t%d\\t%d\\t%g\" % (num_page_visits, knn_num_rec, \n",
    "                                      num_rec_sess, knn_num_sess, \n",
    "                                      num_purch_all, knn_num_purch, float(knn_num_purch)/knn_num_sess)"
   ]
  },
  {
   "cell_type": "markdown",
   "metadata": {},
   "source": [
    "# Top Sellers"
   ]
  },
  {
   "cell_type": "code",
   "execution_count": 400,
   "metadata": {
    "collapsed": true
   },
   "outputs": [],
   "source": [
    "top_sellers = (orders\n",
    "               .filter(lambda row: train_end >= row[6] and row[6] >= train_end - 30)\n",
    "               .map(lambda row: (row[2], 1))\n",
    "               .reduceByKey(operator.add)\n",
    "               )\n",
    "ts = top_sellers.takeOrdered(max_rec, lambda row: -row[1])"
   ]
  },
  {
   "cell_type": "code",
   "execution_count": 401,
   "metadata": {
    "collapsed": false
   },
   "outputs": [
    {
     "data": {
      "text/plain": [
       "[(u'214835167', 2241),\n",
       " (u'214835109', 2225),\n",
       " (u'214836932', 1927),\n",
       " (u'214845131', 1889),\n",
       " (u'214839973', 1884)]"
      ]
     },
     "execution_count": 401,
     "metadata": {},
     "output_type": "execute_result"
    }
   ],
   "source": [
    "ts"
   ]
  },
  {
   "cell_type": "code",
   "execution_count": 402,
   "metadata": {
    "collapsed": false
   },
   "outputs": [],
   "source": [
    "ts_products = [int(t[0]) for t in ts]"
   ]
  },
  {
   "cell_type": "code",
   "execution_count": 403,
   "metadata": {
    "collapsed": false
   },
   "outputs": [
    {
     "data": {
      "text/plain": [
       "[214835167, 214835109, 214836932, 214845131, 214839973]"
      ]
     },
     "execution_count": 403,
     "metadata": {},
     "output_type": "execute_result"
    }
   ],
   "source": [
    "ts_products"
   ]
  },
  {
   "cell_type": "code",
   "execution_count": 404,
   "metadata": {
    "collapsed": false
   },
   "outputs": [],
   "source": [
    "def ts_rec(row):\n",
    "    (prod, sess) = row\n",
    "    for ts_p in ts_products:\n",
    "        yield (sess, ts_p)"
   ]
  },
  {
   "cell_type": "code",
   "execution_count": 405,
   "metadata": {
    "collapsed": false
   },
   "outputs": [
    {
     "data": {
      "text/plain": [
       "[(5563134, 214835167),\n",
       " (5563134, 214835109),\n",
       " (5563134, 214836932),\n",
       " (5563134, 214845131),\n",
       " (5563134, 214839973),\n",
       " (5563134, 214835167),\n",
       " (5563134, 214835109),\n",
       " (5563134, 214836932),\n",
       " (5563134, 214845131),\n",
       " (5563134, 214839973),\n",
       " (5563133, 214835167),\n",
       " (5563133, 214835109),\n",
       " (5563133, 214836932),\n",
       " (5563133, 214845131),\n",
       " (5563133, 214839973)]"
      ]
     },
     "execution_count": 405,
     "metadata": {},
     "output_type": "execute_result"
    }
   ],
   "source": [
    "ts_recomendations = rec_context.flatMap(ts_rec)\n",
    "ts_recomendations.take(15)"
   ]
  },
  {
   "cell_type": "code",
   "execution_count": 406,
   "metadata": {
    "collapsed": true
   },
   "outputs": [],
   "source": [
    "ts_num_sess = (ts_recomendations\n",
    "            .map(lambda row: (row[0], 1))\n",
    "            .reduceByKey(operator.add)\n",
    "            .count()\n",
    "           )"
   ]
  },
  {
   "cell_type": "code",
   "execution_count": 407,
   "metadata": {
    "collapsed": true
   },
   "outputs": [],
   "source": [
    "ts_unique_rec = (ts_recomendations\n",
    "              .map(lambda row: ((row[0], row[1]), 1))\n",
    "              .reduceByKey(operator.add)\n",
    "              )"
   ]
  },
  {
   "cell_type": "code",
   "execution_count": 408,
   "metadata": {
    "collapsed": true
   },
   "outputs": [],
   "source": [
    "ts_num_purch = (purchased_pairs\n",
    "             .join(ts_unique_rec)\n",
    "             .count()\n",
    "             )"
   ]
  },
  {
   "cell_type": "code",
   "execution_count": 409,
   "metadata": {
    "collapsed": true
   },
   "outputs": [],
   "source": [
    "ts_num_rec = ts_recomendations.count()"
   ]
  },
  {
   "cell_type": "code",
   "execution_count": 410,
   "metadata": {
    "collapsed": false
   },
   "outputs": [
    {
     "name": "stdout",
     "output_type": "stream",
     "text": [
      "2010000\t10050000\t555341\t555341\t73889\t995\t0.00179169\n"
     ]
    }
   ],
   "source": [
    "#page visits\trecomendations\tall sessions\tsession\torders\tconversion rate\n",
    "print \"%d\\t%d\\t%d\\t%d\\t%d\\t%d\\t%g\" % (num_page_visits, ts_num_rec, \n",
    "                                      num_rec_sess, ts_num_sess, \n",
    "                                      num_purch_all, ts_num_purch, float(ts_num_purch)/ts_num_sess)"
   ]
  },
  {
   "cell_type": "markdown",
   "metadata": {
    "collapsed": true
   },
   "source": [
    "# Apriori"
   ]
  },
  {
   "cell_type": "code",
   "execution_count": 28,
   "metadata": {
    "collapsed": false
   },
   "outputs": [
    {
     "data": {
      "text/plain": [
       "[(214843393, 72, 214843432, 211, 1, 0.0138889, 73.9496),\n",
       " (214843393, 72, 214836512, 1386, 1, 0.0138889, 11.2578),\n",
       " (214843393, 72, 214843676, 158, 1, 0.0138889, 98.7555),\n",
       " (214843393, 72, 214691636, 83, 1, 0.0138889, 187.992)]"
      ]
     },
     "execution_count": 28,
     "metadata": {},
     "output_type": "execute_result"
    }
   ],
   "source": [
    "path_apriori = \"apriori_out.txt\"\n",
    "def convert_apriori(row):\n",
    "    # (214712514, 9, 214712516, 10, 9, 1.0, 112344.20000000003)\n",
    "    data = row.split(\"\\t\")\n",
    "    return (int(data[0]),int(data[1]),int(data[2]),int(data[3]),int(data[4]),float(data[5]),float(data[6]))\n",
    "    \n",
    "apriori_data = sc.textFile(path_apriori).map(convert_apriori)\n",
    "apriori_data.take(4)"
   ]
  },
  {
   "cell_type": "code",
   "execution_count": 29,
   "metadata": {
    "collapsed": true
   },
   "outputs": [],
   "source": [
    "def sort_iterable(row):\n",
    "    prod = row[0]\n",
    "    rp_it = row[1]\n",
    "    rp_list = []\n",
    "    for (p, s) in rp_it:\n",
    "        rp_list.append((p, s))\n",
    "    rp_list = sorted(rp_list, key=lambda tup: -tup[1])\n",
    "    return (prod, rp_list)\n",
    "    "
   ]
  },
  {
   "cell_type": "code",
   "execution_count": 30,
   "metadata": {
    "collapsed": false
   },
   "outputs": [
    {
     "data": {
      "text/plain": [
       "[(214602240, [(214821296, 0.357143)]),\n",
       " (214717440, [(214542225, 0.158416)]),\n",
       " (214716930, [(214716932, 0.13986)]),\n",
       " (214553604, [(214544357, 0.278481)]),\n",
       " (214652934, [(214821277, 0.137931)]),\n",
       " (214836744,\n",
       "  [(214602525, 0.333333), (214602581, 0.333333), (214602562, 0.333333)]),\n",
       " (214843914,\n",
       "  [(214691675, 0.147826),\n",
       "   (214840867, 0.147826),\n",
       "   (214842418, 0.13913),\n",
       "   (214838495, 0.13913)]),\n",
       " (214837260, [(214639200, 0.115789)]),\n",
       " (214569474, [(214717412, 0.113208)]),\n",
       " (214821390, [(214718203, 0.107843)]),\n",
       " (214820274, [(214842555, 0.135135)]),\n",
       " (214827024, [(214820415, 0.252918), (214717331, 0.101167)]),\n",
       " (214685784, [(214842555, 0.109589)]),\n",
       " (214542354, [(214516749, 0.230769)]),\n",
       " (214542360, [(214835512, 0.18), (214748310, 0.18), (214705659, 0.18)])]"
      ]
     },
     "execution_count": 30,
     "metadata": {},
     "output_type": "execute_result"
    }
   ],
   "source": [
    "apriori_product_relations = (apriori_data\n",
    "                             .filter(lambda row: row[5]> 0.1 and row[4] >= 5 and row[6] >= 1)\n",
    "                             .map(lambda row: (row[0], (row[2], row[5])))\n",
    "                             .groupByKey()\n",
    "                             .map(sort_iterable)\n",
    "                            )\n",
    "apriori_product_relations.take(15)"
   ]
  },
  {
   "cell_type": "code",
   "execution_count": 31,
   "metadata": {
    "collapsed": true
   },
   "outputs": [],
   "source": [
    "# num rec\n",
    "#max_rec = 10"
   ]
  },
  {
   "cell_type": "code",
   "execution_count": 32,
   "metadata": {
    "collapsed": false
   },
   "outputs": [
    {
     "data": {
      "text/plain": [
       "[(5564963, 214838113, 0.125326),\n",
       " (5551178, 214838113, 0.125326),\n",
       " (5544651, 214838113, 0.125326),\n",
       " (5522032, 214838113, 0.125326),\n",
       " (5522672, 214838113, 0.125326),\n",
       " (5523423, 214838113, 0.125326),\n",
       " (5516504, 214838113, 0.125326),\n",
       " (5520117, 214838113, 0.125326),\n",
       " (5508304, 214838113, 0.125326),\n",
       " (5507426, 214838113, 0.125326),\n",
       " (5507668, 214838113, 0.125326),\n",
       " (5511614, 214838113, 0.125326),\n",
       " (5511933, 214838113, 0.125326),\n",
       " (5509284, 214838113, 0.125326),\n",
       " (5236563, 214838113, 0.125326)]"
      ]
     },
     "execution_count": 32,
     "metadata": {},
     "output_type": "execute_result"
    }
   ],
   "source": [
    "        \n",
    "# generate predictions\n",
    "apriori_join = rec_context.join(apriori_product_relations)\n",
    "apriori_recomendations = apriori_join.flatMap(get_recommendations)\n",
    "apriori_recomendations.take(15)"
   ]
  },
  {
   "cell_type": "code",
   "execution_count": 33,
   "metadata": {
    "collapsed": true
   },
   "outputs": [],
   "source": [
    "apriori_num_sess = (apriori_recomendations\n",
    "            .map(lambda row: (row[0], 1))\n",
    "            .reduceByKey(operator.add)\n",
    "            .count()\n",
    "           )"
   ]
  },
  {
   "cell_type": "code",
   "execution_count": 34,
   "metadata": {
    "collapsed": true
   },
   "outputs": [],
   "source": [
    "apriori_unique_rec = (apriori_recomendations\n",
    "              .map(lambda row: ((row[0], row[1]), 1))\n",
    "              .reduceByKey(operator.add)\n",
    "              )"
   ]
  },
  {
   "cell_type": "code",
   "execution_count": 35,
   "metadata": {
    "collapsed": true
   },
   "outputs": [],
   "source": [
    "apriori_num_purch = (purchased_pairs\n",
    "             .join(apriori_unique_rec)\n",
    "             .count()\n",
    "             )"
   ]
  },
  {
   "cell_type": "code",
   "execution_count": 36,
   "metadata": {
    "collapsed": true
   },
   "outputs": [],
   "source": [
    "apriori_num_rec = apriori_recomendations.count()"
   ]
  },
  {
   "cell_type": "code",
   "execution_count": 37,
   "metadata": {
    "collapsed": false
   },
   "outputs": [
    {
     "name": "stdout",
     "output_type": "stream",
     "text": [
      "2010000\t629808\t555341\t221577\t73889\t5190\t0.023423\n"
     ]
    }
   ],
   "source": [
    "#page visits\trecomendations\tall sessions\tsession\torders\tconversion rate\n",
    "print \"%d\\t%d\\t%d\\t%d\\t%d\\t%d\\t%g\" % (num_page_visits, apriori_num_rec, \n",
    "                                      num_rec_sess, apriori_num_sess, \n",
    "                                      num_purch_all, apriori_num_purch, float(apriori_num_purch)/apriori_num_sess)"
   ]
  },
  {
   "cell_type": "markdown",
   "metadata": {},
   "source": [
    "# Ansamble"
   ]
  },
  {
   "cell_type": "code",
   "execution_count": 38,
   "metadata": {
    "collapsed": true
   },
   "outputs": [],
   "source": [
    "def flat_prod_relations(row):\n",
    "    p1 = row[0]\n",
    "    rp_list = row[1]\n",
    "    for (p2, s) in rp_list:\n",
    "        yield ((p1, p2), s)"
   ]
  },
  {
   "cell_type": "code",
   "execution_count": 39,
   "metadata": {
    "collapsed": false
   },
   "outputs": [
    {
     "data": {
      "text/plain": [
       "[((214602240, 214821296), 0.357143),\n",
       " ((214717440, 214542225), 0.158416),\n",
       " ((214716930, 214716932), 0.13986),\n",
       " ((214553604, 214544357), 0.278481),\n",
       " ((214652934, 214821277), 0.137931)]"
      ]
     },
     "execution_count": 39,
     "metadata": {},
     "output_type": "execute_result"
    }
   ],
   "source": [
    "apriori_pp_rel = apriori_product_relations.flatMap(flat_prod_relations)\n",
    "apriori_pp_rel.take(5)"
   ]
  },
  {
   "cell_type": "code",
   "execution_count": 40,
   "metadata": {
    "collapsed": false
   },
   "outputs": [
    {
     "data": {
      "text/plain": [
       "[((214712940, 214697660), 0.162132),\n",
       " ((214712940, 214676578), 0.15562),\n",
       " ((214712940, 214836842), 0.153352),\n",
       " ((214712940, 214668275), 0.146447),\n",
       " ((214712940, 214601203), 0.141755)]"
      ]
     },
     "execution_count": 40,
     "metadata": {},
     "output_type": "execute_result"
    }
   ],
   "source": [
    "lfs_pp_rel = product_relations.flatMap(flat_prod_relations)\n",
    "lfs_pp_rel.take(5)"
   ]
  },
  {
   "cell_type": "code",
   "execution_count": 41,
   "metadata": {
    "collapsed": false
   },
   "outputs": [],
   "source": [
    "#knn_pp_rel = knn_product_relations.flatMap(flat_prod_relations)\n",
    "#knn_pp_rel.take(5)"
   ]
  },
  {
   "cell_type": "code",
   "execution_count": null,
   "metadata": {
    "collapsed": true
   },
   "outputs": [],
   "source": []
  },
  {
   "cell_type": "code",
   "execution_count": 490,
   "metadata": {
    "collapsed": false
   },
   "outputs": [
    {
     "data": {
      "text/plain": [
       "[(214791682,\n",
       "  [(214650592, 0.620612),\n",
       "   (214650626, 0.538425),\n",
       "   (214573290, 0.532369),\n",
       "   (214650598, 0.530369),\n",
       "   (214606792, 0.529492),\n",
       "   (214718167, 0.518293),\n",
       "   (214819374, 0.513203),\n",
       "   (214819562, 0.506206),\n",
       "   (214707995, 0.500861),\n",
       "   (214711952, 0.499354),\n",
       "   (214819550, 0.492852),\n",
       "   (214573288, 0.467607),\n",
       "   (214791684, 0.460547),\n",
       "   (214553257, 0.455331),\n",
       "   (214709702, 0.455033),\n",
       "   (214606790, 0.453108),\n",
       "   (214717877, 0.449347),\n",
       "   (214819691, 0.44436),\n",
       "   (214712507, 0.439759),\n",
       "   (214649951, 0.438673),\n",
       "   (214676308, 0.438061),\n",
       "   (214748261, 0.436463),\n",
       "   (214811739, 0.431709),\n",
       "   (214565475, 0.430344),\n",
       "   (214745315, 0.424269),\n",
       "   (214821015, 0.421571),\n",
       "   (214717850, 0.420104),\n",
       "   (214811747, 0.419875),\n",
       "   (214556595, 0.417859),\n",
       "   (214556342, 0.417828)]),\n",
       " (214668804,\n",
       "  [(214600637, 1.0487),\n",
       "   (214705155, 0.99591),\n",
       "   (214668806, 0.990614),\n",
       "   (214508027, 0.989871),\n",
       "   (214507447, 0.987903),\n",
       "   (214523679, 0.975066),\n",
       "   (214649730, 0.960605),\n",
       "   (214518817, 0.960293),\n",
       "   (214668797, 0.957393),\n",
       "   (214692821, 0.953671),\n",
       "   (214645875, 0.944643),\n",
       "   (214702929, 0.937005),\n",
       "   (214600607, 0.936463),\n",
       "   (214702927, 0.913173),\n",
       "   (214839718, 0.910387),\n",
       "   (214851002, 0.9067),\n",
       "   (214692868, 0.897093),\n",
       "   (214508244, 0.88312),\n",
       "   (214705352, 0.881006),\n",
       "   (214851000, 0.870742),\n",
       "   (214582770, 0.869983),\n",
       "   (214685867, 0.865908),\n",
       "   (214517445, 0.85619),\n",
       "   (214518639, 0.85598),\n",
       "   (214844053, 0.850279),\n",
       "   (214561704, 0.850126),\n",
       "   (214531584, 0.82824),\n",
       "   (214507385, 0.826428),\n",
       "   (214571402, 0.819992),\n",
       "   (214507610, 0.816378)])]"
      ]
     },
     "execution_count": 490,
     "metadata": {},
     "output_type": "execute_result"
    }
   ],
   "source": [
    "comb_product_relations = (lfs_pp_rel\n",
    "                          .union(apriori_pp_rel)\n",
    "                          #.union(knn_pp_rel)\n",
    "                          .reduceByKey(lambda a,b: 1 - (1-a)*(1-b))\n",
    "                          .map(lambda row: (row[0][0], (row[0][1], row[1])))\n",
    "                          .groupByKey()\n",
    "                          .map(sort_iterable)\n",
    "                          )\n",
    "comb_product_relations.take(2)"
   ]
  },
  {
   "cell_type": "code",
   "execution_count": 491,
   "metadata": {
    "collapsed": false
   },
   "outputs": [],
   "source": [
    "#comb_product_relations = (lfs_pp_rel\n",
    "#                          .join(apriori_pp_rel)\n",
    "#                          .join(knn_pp_rel)\n",
    "#                          .map(lambda row: (row[0], 1 - ((1-row[1][0][0])*(1-row[1][0][1])*(1-row[1][1]))))\n",
    "#                          .map(lambda row: (row[0][0], (row[0][1], row[1])))\n",
    "#                          .groupByKey()\n",
    "#                          .map(sort_iterable)\n",
    "#                          )\n",
    "#comb_product_relations.take(2)"
   ]
  },
  {
   "cell_type": "code",
   "execution_count": 51,
   "metadata": {
    "collapsed": false
   },
   "outputs": [
    {
     "data": {
      "text/plain": [
       "[(214791682,\n",
       "  [(214650592, 0.620612),\n",
       "   (214650626, 0.538425),\n",
       "   (214573290, 0.532369),\n",
       "   (214650598, 0.530369),\n",
       "   (214606792, 0.529492),\n",
       "   (214718167, 0.518293),\n",
       "   (214819374, 0.513203),\n",
       "   (214819562, 0.506206),\n",
       "   (214707995, 0.500861),\n",
       "   (214711952, 0.499354),\n",
       "   (214819550, 0.492852),\n",
       "   (214573288, 0.467607),\n",
       "   (214791684, 0.460547),\n",
       "   (214553257, 0.455331),\n",
       "   (214709702, 0.455033),\n",
       "   (214606790, 0.453108),\n",
       "   (214717877, 0.449347),\n",
       "   (214819691, 0.44436),\n",
       "   (214712507, 0.439759),\n",
       "   (214649951, 0.438673),\n",
       "   (214676308, 0.438061),\n",
       "   (214748261, 0.436463),\n",
       "   (214811739, 0.431709),\n",
       "   (214565475, 0.430344),\n",
       "   (214745315, 0.424269),\n",
       "   (214821015, 0.421571),\n",
       "   (214717850, 0.420104),\n",
       "   (214811747, 0.419875),\n",
       "   (214556595, 0.417859),\n",
       "   (214556342, 0.417828)]),\n",
       " (214668804,\n",
       "  [(214600637, 1.0487),\n",
       "   (214705155, 0.99591),\n",
       "   (214668806, 0.990614),\n",
       "   (214508027, 0.989871),\n",
       "   (214507447, 0.987903),\n",
       "   (214523679, 0.975066),\n",
       "   (214649730, 0.960605),\n",
       "   (214518817, 0.960293),\n",
       "   (214668797, 0.957393),\n",
       "   (214692821, 0.953671),\n",
       "   (214645875, 0.944643),\n",
       "   (214702929, 0.937005),\n",
       "   (214600607, 0.936463),\n",
       "   (214702927, 0.913173),\n",
       "   (214839718, 0.910387),\n",
       "   (214851002, 0.9067),\n",
       "   (214692868, 0.897093),\n",
       "   (214508244, 0.88312),\n",
       "   (214705352, 0.881006),\n",
       "   (214851000, 0.870742),\n",
       "   (214582770, 0.869983),\n",
       "   (214685867, 0.865908),\n",
       "   (214517445, 0.85619),\n",
       "   (214518639, 0.85598),\n",
       "   (214844053, 0.850279),\n",
       "   (214561704, 0.850126),\n",
       "   (214531584, 0.82824),\n",
       "   (214507385, 0.826428),\n",
       "   (214571402, 0.819992),\n",
       "   (214507610, 0.816378)])]"
      ]
     },
     "execution_count": 51,
     "metadata": {},
     "output_type": "execute_result"
    }
   ],
   "source": [
    "priority = \"a\"\n",
    "#priority = \"l\"\n",
    "def comb_by_priority(row):\n",
    "    prod = row[0]\n",
    "    rel = row[1]\n",
    "    algo_rel = []\n",
    "    for ar in rel:\n",
    "        algo_rel.append(ar)\n",
    "    if len(algo_rel) == 1:\n",
    "        return (prod, algo_rel[0][1])\n",
    "    else:\n",
    "        if algo_rel[0][0] == priority:\n",
    "            return (prod, algo_rel[0][1] + algo_rel[1][1])\n",
    "        else:\n",
    "            return (prod, algo_rel[1][1] + algo_rel[0][1])\n",
    "\n",
    "            \n",
    "\n",
    "comb_product_relations = (apriori_product_relations.map(lambda row: (row[0], (\"a\", row[1])))\n",
    "                          .union(product_relations.map(lambda row: (row[0], (\"l\", row[1]))))\n",
    "                          .groupByKey()\n",
    "                          .map(comb_by_priority)\n",
    "                         )\n",
    "comb_product_relations.take(2)"
   ]
  },
  {
   "cell_type": "code",
   "execution_count": 45,
   "metadata": {
    "collapsed": false
   },
   "outputs": [
    {
     "data": {
      "text/plain": [
       "[(5522799, 214712548, 0.272743),\n",
       " (5522799, 214789372, 0.256658),\n",
       " (5522799, 214580465, 0.255789),\n",
       " (5522799, 214639335, 0.231494),\n",
       " (5522799, 214573522, 0.23113),\n",
       " (5516933, 214712548, 0.272743),\n",
       " (5516933, 214789372, 0.256658),\n",
       " (5516933, 214580465, 0.255789),\n",
       " (5516933, 214639335, 0.231494),\n",
       " (5516933, 214573522, 0.23113),\n",
       " (5513421, 214712548, 0.272743),\n",
       " (5513421, 214789372, 0.256658),\n",
       " (5513421, 214580465, 0.255789),\n",
       " (5513421, 214639335, 0.231494),\n",
       " (5513421, 214573522, 0.23113)]"
      ]
     },
     "execution_count": 45,
     "metadata": {},
     "output_type": "execute_result"
    }
   ],
   "source": [
    "# num rec\n",
    "max_rec = 5\n",
    "\n",
    "# generate predictions\n",
    "comb_join = rec_context.join(comb_product_relations)\n",
    "comb_recomendations = comb_join.flatMap(get_recommendations)\n",
    "comb_recomendations.take(15)"
   ]
  },
  {
   "cell_type": "code",
   "execution_count": 46,
   "metadata": {
    "collapsed": true
   },
   "outputs": [],
   "source": [
    "comb_num_sess = (comb_recomendations\n",
    "            .map(lambda row: (row[0], 1))\n",
    "            .reduceByKey(operator.add)\n",
    "            .count()\n",
    "           )"
   ]
  },
  {
   "cell_type": "code",
   "execution_count": 47,
   "metadata": {
    "collapsed": true
   },
   "outputs": [],
   "source": [
    "comb_unique_rec = (comb_recomendations\n",
    "              .map(lambda row: ((row[0], row[1]), 1))\n",
    "              .reduceByKey(operator.add)\n",
    "              )"
   ]
  },
  {
   "cell_type": "code",
   "execution_count": 48,
   "metadata": {
    "collapsed": true
   },
   "outputs": [],
   "source": [
    "comb_num_purch = (purchased_pairs\n",
    "             .join(comb_unique_rec)\n",
    "             .count()\n",
    "             )"
   ]
  },
  {
   "cell_type": "code",
   "execution_count": 49,
   "metadata": {
    "collapsed": true
   },
   "outputs": [],
   "source": [
    "comb_num_rec = comb_recomendations.count()"
   ]
  },
  {
   "cell_type": "code",
   "execution_count": 50,
   "metadata": {
    "collapsed": false
   },
   "outputs": [
    {
     "name": "stdout",
     "output_type": "stream",
     "text": [
      "2010000\t9637512\t555341\t543744\t73889\t35930\t0.0660789\n"
     ]
    }
   ],
   "source": [
    "#page visits\trecomendations\tall sessions\tsession\torders\tconversion rate\n",
    "print \"%d\\t%d\\t%d\\t%d\\t%d\\t%d\\t%g\" % (num_page_visits, comb_num_rec, \n",
    "                                      num_rec_sess, comb_num_sess, \n",
    "                                      num_purch_all, comb_num_purch, float(comb_num_purch)/comb_num_sess)"
   ]
  },
  {
   "cell_type": "code",
   "execution_count": null,
   "metadata": {
    "collapsed": true
   },
   "outputs": [],
   "source": []
  },
  {
   "cell_type": "code",
   "execution_count": null,
   "metadata": {
    "collapsed": true
   },
   "outputs": [],
   "source": []
  },
  {
   "cell_type": "code",
   "execution_count": null,
   "metadata": {
    "collapsed": true
   },
   "outputs": [],
   "source": []
  },
  {
   "cell_type": "code",
   "execution_count": null,
   "metadata": {
    "collapsed": true
   },
   "outputs": [],
   "source": []
  },
  {
   "cell_type": "code",
   "execution_count": null,
   "metadata": {
    "collapsed": true
   },
   "outputs": [],
   "source": []
  },
  {
   "cell_type": "code",
   "execution_count": null,
   "metadata": {
    "collapsed": true
   },
   "outputs": [],
   "source": []
  },
  {
   "cell_type": "code",
   "execution_count": null,
   "metadata": {
    "collapsed": true
   },
   "outputs": [],
   "source": []
  }
 ],
 "metadata": {
  "kernelspec": {
   "display_name": "Python 2",
   "language": "python",
   "name": "python2"
  },
  "language_info": {
   "codemirror_mode": {
    "name": "ipython",
    "version": 2
   },
   "file_extension": ".py",
   "mimetype": "text/x-python",
   "name": "python",
   "nbconvert_exporter": "python",
   "pygments_lexer": "ipython2",
   "version": "2.7.11"
  }
 },
 "nbformat": 4,
 "nbformat_minor": 0
}
